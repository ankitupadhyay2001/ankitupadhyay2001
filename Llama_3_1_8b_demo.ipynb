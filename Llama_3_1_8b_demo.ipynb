{
  "nbformat": 4,
  "nbformat_minor": 0,
  "metadata": {
    "colab": {
      "provenance": [],
      "authorship_tag": "ABX9TyO/LhWKOhtBhe19VjWurJFx",
      "include_colab_link": true
    },
    "kernelspec": {
      "name": "python3",
      "display_name": "Python 3"
    },
    "language_info": {
      "name": "python"
    }
  },
  "cells": [
    {
      "cell_type": "markdown",
      "metadata": {
        "id": "view-in-github",
        "colab_type": "text"
      },
      "source": [
        "<a href=\"https://colab.research.google.com/github/ankitupadhyay2001/ankitupadhyay2001/blob/main/Llama_3_1_8b_demo.ipynb\" target=\"_parent\"><img src=\"https://colab.research.google.com/assets/colab-badge.svg\" alt=\"Open In Colab\"/></a>"
      ]
    },
    {
      "cell_type": "code",
      "execution_count": 2,
      "metadata": {
        "colab": {
          "base_uri": "https://localhost:8080/"
        },
        "collapsed": true,
        "id": "7fCu9h_LNIH7",
        "outputId": "d57b398e-0883-411f-b2d1-993455120736"
      },
      "outputs": [
        {
          "output_type": "stream",
          "name": "stdout",
          "text": [
            "Collecting groq\n",
            "  Downloading groq-0.18.0-py3-none-any.whl.metadata (14 kB)\n",
            "Requirement already satisfied: anyio<5,>=3.5.0 in /usr/local/lib/python3.11/dist-packages (from groq) (3.7.1)\n",
            "Requirement already satisfied: distro<2,>=1.7.0 in /usr/local/lib/python3.11/dist-packages (from groq) (1.9.0)\n",
            "Requirement already satisfied: httpx<1,>=0.23.0 in /usr/local/lib/python3.11/dist-packages (from groq) (0.28.1)\n",
            "Requirement already satisfied: pydantic<3,>=1.9.0 in /usr/local/lib/python3.11/dist-packages (from groq) (2.10.6)\n",
            "Requirement already satisfied: sniffio in /usr/local/lib/python3.11/dist-packages (from groq) (1.3.1)\n",
            "Requirement already satisfied: typing-extensions<5,>=4.10 in /usr/local/lib/python3.11/dist-packages (from groq) (4.12.2)\n",
            "Requirement already satisfied: idna>=2.8 in /usr/local/lib/python3.11/dist-packages (from anyio<5,>=3.5.0->groq) (3.10)\n",
            "Requirement already satisfied: certifi in /usr/local/lib/python3.11/dist-packages (from httpx<1,>=0.23.0->groq) (2025.1.31)\n",
            "Requirement already satisfied: httpcore==1.* in /usr/local/lib/python3.11/dist-packages (from httpx<1,>=0.23.0->groq) (1.0.7)\n",
            "Requirement already satisfied: h11<0.15,>=0.13 in /usr/local/lib/python3.11/dist-packages (from httpcore==1.*->httpx<1,>=0.23.0->groq) (0.14.0)\n",
            "Requirement already satisfied: annotated-types>=0.6.0 in /usr/local/lib/python3.11/dist-packages (from pydantic<3,>=1.9.0->groq) (0.7.0)\n",
            "Requirement already satisfied: pydantic-core==2.27.2 in /usr/local/lib/python3.11/dist-packages (from pydantic<3,>=1.9.0->groq) (2.27.2)\n",
            "Downloading groq-0.18.0-py3-none-any.whl (121 kB)\n",
            "\u001b[2K   \u001b[90m━━━━━━━━━━━━━━━━━━━━━━━━━━━━━━━━━━━━━━━━\u001b[0m \u001b[32m121.9/121.9 kB\u001b[0m \u001b[31m3.1 MB/s\u001b[0m eta \u001b[36m0:00:00\u001b[0m\n",
            "\u001b[?25hInstalling collected packages: groq\n",
            "Successfully installed groq-0.18.0\n"
          ]
        }
      ],
      "source": [
        "pip install groq\n"
      ]
    },
    {
      "cell_type": "code",
      "source": [
        "from groq import Groq"
      ],
      "metadata": {
        "id": "u3lh-vzbNiVL"
      },
      "execution_count": 3,
      "outputs": []
    },
    {
      "cell_type": "code",
      "source": [
        "client = Groq(api_key=\"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\")"
      ],
      "metadata": {
        "id": "TKEQziVyNqUX"
      },
      "execution_count": 4,
      "outputs": []
    },
    {
      "cell_type": "code",
      "source": [
        "output = client.chat.completions.create(model=\"Llama-3.1-8b-Instant\", messages=[{\"role\": \"system\", \"content\": \"you are helpful assistant\"},{\"role\": \"user\", \"content\": \"write about india?\"}])"
      ],
      "metadata": {
        "id": "Rt_0oxddN7-C"
      },
      "execution_count": 7,
      "outputs": []
    },
    {
      "cell_type": "code",
      "source": [
        "output.choices[0].message.content"
      ],
      "metadata": {
        "colab": {
          "base_uri": "https://localhost:8080/",
          "height": 140
        },
        "id": "SZIRov7uPFxZ",
        "outputId": "a0b74df7-65cb-4b58-86c0-e4331952a543"
      },
      "execution_count": 8,
      "outputs": [
        {
          "output_type": "execute_result",
          "data": {
            "text/plain": [
              "\"**India: A Diverse and Vibrant Nation**\\n\\nIndia, officially known as the Republic of India, is a sovereign nation located in South Asia. With a rich history dating back to the Indus Valley Civilization (3300-1300 BCE), India has evolved into a diverse and vibrant country, boasting a population of over 1.38 billion people, making it the second-most populous country in the world.\\n\\n**Geography**\\n\\nIndia occupies a vast territory of approximately 3.28 million square kilometers, making it the seventh-largest country in the world. It shares international borders with Pakistan to the west, China and Nepal to the north, Bhutan to the northeast, and Bangladesh and Myanmar to the east. The Arabian Sea lies to the west, and the Bay of Bengal to the east.\\n\\n**Culture**\\n\\nIndia's rich cultural heritage is a melting pot of various customs, traditions, and languages. With 22 official languages, including Hindi, English, and Sanskrit, India is home to a multilingual population. Hinduism, Islam, Sikhism, Buddhism, and Jainism are the major religions, and each region has its unique festivities, customs, and practices.\\n\\n**History**\\n\\nIndia's history spans over 5,000 years, with several dynasties and empires rising and falling throughout the ages. The Mughal Empire (1526-1756 CE) and the British Colonial period (1756-1947 CE) were significant eras that shaped India's politics, economy, and culture. After gaining independence on August 15, 1947, India has continued to grow and develop, making significant strides in science, technology, and international relations.\\n\\n**Economy**\\n\\nIndia is the world's fifth-largest economy, with a nominal GDP of over $2.7 trillion. The Service sector, including industries such as IT, finance, and tourism, contributes significantly to the economy. India is also the world's largest producer of milk, jute, and turmeric, and the second-largest producer of rice and wheat.\\n\\n**Cuisine**\\n\\nIndian cuisine is diverse and reflects the country's geographical and cultural diversity. With a variety of spices, herbs, and oils, Indian dishes are known for their rich flavors and aromas. Popular dishes such as tandoori chicken, naan bread, and biryani are enjoyed by people around the world.\\n\\n**Places of Interest**\\n\\nIndia is home to numerous UNESCO World Heritage Sites, including:\\n\\n1. The Taj Mahal (Agra)\\n2. Hampi (Karnataka)\\n3. Ajanta and Ellora Caves (Maharashtra)\\n4. Konark Sun Temple (Odisha)\\n5. Great Pyramid of Bodhisattva (Uttarakhand)\\n\\n**Demographics**\\n\\nIndia has a diverse population, with various ethnic groups, languages, and castes. According to the 2021 Census, the country's demographic breakup is:\\n\\n1. Age: 28% of the population is under 14, while 10% is over 60.\\n2. Sex ratio: 965 females per 1000 males.\\n3. Literacy rate: 74% (male) and 65% (female).\\n\\n**Tourism**\\n\\nIndia is an attractive destination for tourists, with its rich history, vibrant culture, and stunning landscapes. From the snow-capped Himalayas to the vibrant cities of Mumbai and Delhi, India has something to offer for every kind of traveler.\\n\\n**Challenges**\\n\\nDespite its progress, India faces several challenges, including:\\n\\n1. Poverty and inequality\\n2. Corruption and governance issues\\n3. The environmental impact of rapid industrialization and urbanization\\n4. Security concerns, including terrorist threats and border disputes\\n\\nIn conclusion, India is a complex, multifaceted nation that offers a wealth of experiences, perspectives, and opportunities. With its rich cultural heritage, diverse geography, and vibrant economy, India is a fascinating country that continues to attract attention and interest from around the world.\""
            ],
            "application/vnd.google.colaboratory.intrinsic+json": {
              "type": "string"
            }
          },
          "metadata": {},
          "execution_count": 8
        }
      ]
    }
  ]
}