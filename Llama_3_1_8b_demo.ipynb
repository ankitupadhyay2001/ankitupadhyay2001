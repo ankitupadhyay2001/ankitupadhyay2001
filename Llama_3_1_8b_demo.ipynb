{
  "nbformat": 4,
  "nbformat_minor": 0,
  "metadata": {
    "colab": {
      "provenance": [],
      "authorship_tag": "ABX9TyMij9Zh6qdIEqWZHZlugzvy",
      "include_colab_link": true
    },
    "kernelspec": {
      "name": "python3",
      "display_name": "Python 3"
    },
    "language_info": {
      "name": "python"
    }
  },
  "cells": [
    {
      "cell_type": "markdown",
      "metadata": {
        "id": "view-in-github",
        "colab_type": "text"
      },
      "source": [
        "<a href=\"https://colab.research.google.com/github/ankitupadhyay2001/ankitupadhyay2001/blob/main/Llama_3_1_8b_demo.ipynb\" target=\"_parent\"><img src=\"https://colab.research.google.com/assets/colab-badge.svg\" alt=\"Open In Colab\"/></a>"
      ]
    },
    {
      "cell_type": "code",
      "execution_count": 2,
      "metadata": {
        "colab": {
          "base_uri": "https://localhost:8080/"
        },
        "collapsed": true,
        "id": "7fCu9h_LNIH7",
        "outputId": "d57b398e-0883-411f-b2d1-993455120736"
      },
      "outputs": [
        {
          "output_type": "stream",
          "name": "stdout",
          "text": [
            "Collecting groq\n",
            "  Downloading groq-0.18.0-py3-none-any.whl.metadata (14 kB)\n",
            "Requirement already satisfied: anyio<5,>=3.5.0 in /usr/local/lib/python3.11/dist-packages (from groq) (3.7.1)\n",
            "Requirement already satisfied: distro<2,>=1.7.0 in /usr/local/lib/python3.11/dist-packages (from groq) (1.9.0)\n",
            "Requirement already satisfied: httpx<1,>=0.23.0 in /usr/local/lib/python3.11/dist-packages (from groq) (0.28.1)\n",
            "Requirement already satisfied: pydantic<3,>=1.9.0 in /usr/local/lib/python3.11/dist-packages (from groq) (2.10.6)\n",
            "Requirement already satisfied: sniffio in /usr/local/lib/python3.11/dist-packages (from groq) (1.3.1)\n",
            "Requirement already satisfied: typing-extensions<5,>=4.10 in /usr/local/lib/python3.11/dist-packages (from groq) (4.12.2)\n",
            "Requirement already satisfied: idna>=2.8 in /usr/local/lib/python3.11/dist-packages (from anyio<5,>=3.5.0->groq) (3.10)\n",
            "Requirement already satisfied: certifi in /usr/local/lib/python3.11/dist-packages (from httpx<1,>=0.23.0->groq) (2025.1.31)\n",
            "Requirement already satisfied: httpcore==1.* in /usr/local/lib/python3.11/dist-packages (from httpx<1,>=0.23.0->groq) (1.0.7)\n",
            "Requirement already satisfied: h11<0.15,>=0.13 in /usr/local/lib/python3.11/dist-packages (from httpcore==1.*->httpx<1,>=0.23.0->groq) (0.14.0)\n",
            "Requirement already satisfied: annotated-types>=0.6.0 in /usr/local/lib/python3.11/dist-packages (from pydantic<3,>=1.9.0->groq) (0.7.0)\n",
            "Requirement already satisfied: pydantic-core==2.27.2 in /usr/local/lib/python3.11/dist-packages (from pydantic<3,>=1.9.0->groq) (2.27.2)\n",
            "Downloading groq-0.18.0-py3-none-any.whl (121 kB)\n",
            "\u001b[2K   \u001b[90m━━━━━━━━━━━━━━━━━━━━━━━━━━━━━━━━━━━━━━━━\u001b[0m \u001b[32m121.9/121.9 kB\u001b[0m \u001b[31m3.1 MB/s\u001b[0m eta \u001b[36m0:00:00\u001b[0m\n",
            "\u001b[?25hInstalling collected packages: groq\n",
            "Successfully installed groq-0.18.0\n"
          ]
        }
      ],
      "source": [
        "pip install groq\n"
      ]
    },
    {
      "cell_type": "code",
      "source": [
        "from groq import Groq"
      ],
      "metadata": {
        "id": "u3lh-vzbNiVL"
      },
      "execution_count": 3,
      "outputs": []
    },
    {
      "cell_type": "code",
      "source": [
        "client = Groq(api_key=\"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\")"
      ],
      "metadata": {
        "id": "TKEQziVyNqUX"
      },
      "execution_count": 4,
      "outputs": []
    },
    {
      "cell_type": "code",
      "source": [
        "output = client.chat.completions.create(model=\"Llama-3.1-8b-Instant\", messages=[{\"role\": \"system\", \"content\": \"you are helpful assistant\"},{\"role\": \"user\", \"content\": \"write about india?\"}])"
      ],
      "metadata": {
        "id": "Rt_0oxddN7-C"
      },
      "execution_count": 7,
      "outputs": []
    },
    {
      "cell_type": "code",
      "source": [
        "output.choices[0].message.content"
      ],
      "metadata": {
        "colab": {
          "base_uri": "https://localhost:8080/",
          "height": 174
        },
        "id": "SZIRov7uPFxZ",
        "outputId": "a0b74df7-65cb-4b58-86c0-e4331952a543"
      },
      "execution_count": 8,
      "outputs": [
        {
          "output_type": "execute_result",
          "data": {
            "text/plain": [
              "\"**India: A Diverse and Vibrant Nation**\\n\\nIndia, officially known as the Republic of India, is a sovereign nation located in South Asia. With a rich history dating back to the Indus Valley Civilization (3300-1300 BCE), India has evolved into a diverse and vibrant country, boasting a population of over 1.38 billion people, making it the second-most populous country in the world.\\n\\n**Geography**\\n\\nIndia occupies a vast territory of approximately 3.28 million square kilometers, making it the seventh-largest country in the world. It shares international borders with Pakistan to the west, China and Nepal to the north, Bhutan to the northeast, and Bangladesh and Myanmar to the east. The Arabian Sea lies to the west, and the Bay of Bengal to the east.\\n\\n**Culture**\\n\\nIndia's rich cultural heritage is a melting pot of various customs, traditions, and languages. With 22 official languages, including Hindi, English, and Sanskrit, India is home to a multilingual population. Hinduism, Islam, Sikhism, Buddhism, and Jainism are the major religions, and each region has its unique festivities, customs, and practices.\\n\\n**History**\\n\\nIndia's history spans over 5,000 years, with several dynasties and empires rising and falling throughout the ages. The Mughal Empire (1526-1756 CE) and the British Colonial period (1756-1947 CE) were significant eras that shaped India's politics, economy, and culture. After gaining independence on August 15, 1947, India has continued to grow and develop, making significant strides in science, technology, and international relations.\\n\\n**Economy**\\n\\nIndia is the world's fifth-largest economy, with a nominal GDP of over $2.7 trillion. The Service sector, including industries such as IT, finance, and tourism, contributes significantly to the economy. India is also the world's largest producer of milk, jute, and turmeric, and the second-largest producer of rice and wheat.\\n\\n**Cuisine**\\n\\nIndian cuisine is diverse and reflects the country's geographical and cultural diversity. With a variety of spices, herbs, and oils, Indian dishes are known for their rich flavors and aromas. Popular dishes such as tandoori chicken, naan bread, and biryani are enjoyed by people around the world.\\n\\n**Places of Interest**\\n\\nIndia is home to numerous UNESCO World Heritage Sites, including:\\n\\n1. The Taj Mahal (Agra)\\n2. Hampi (Karnataka)\\n3. Ajanta and Ellora Caves (Maharashtra)\\n4. Konark Sun Temple (Odisha)\\n5. Great Pyramid of Bodhisattva (Uttarakhand)\\n\\n**Demographics**\\n\\nIndia has a diverse population, with various ethnic groups, languages, and castes. According to the 2021 Census, the country's demographic breakup is:\\n\\n1. Age: 28% of the population is under 14, while 10% is over 60.\\n2. Sex ratio: 965 females per 1000 males.\\n3. Literacy rate: 74% (male) and 65% (female).\\n\\n**Tourism**\\n\\nIndia is an attractive destination for tourists, with its rich history, vibrant culture, and stunning landscapes. From the snow-capped Himalayas to the vibrant cities of Mumbai and Delhi, India has something to offer for every kind of traveler.\\n\\n**Challenges**\\n\\nDespite its progress, India faces several challenges, including:\\n\\n1. Poverty and inequality\\n2. Corruption and governance issues\\n3. The environmental impact of rapid industrialization and urbanization\\n4. Security concerns, including terrorist threats and border disputes\\n\\nIn conclusion, India is a complex, multifaceted nation that offers a wealth of experiences, perspectives, and opportunities. With its rich cultural heritage, diverse geography, and vibrant economy, India is a fascinating country that continues to attract attention and interest from around the world.\""
            ],
            "application/vnd.google.colaboratory.intrinsic+json": {
              "type": "string"
            }
          },
          "metadata": {},
          "execution_count": 8
        }
      ]
    },
    {
      "cell_type": "code",
      "source": [
        "output = client.chat.completions.create(model=\"Llama-3.1-8b-Instant\", messages=[{\"role\": \"system\", \"content\": \"you are helpful assistant\"},{\"role\": \"user\", \"content\": \"write about Narendra modi?\"}])"
      ],
      "metadata": {
        "id": "lUQw7b_qQoX8"
      },
      "execution_count": 9,
      "outputs": []
    },
    {
      "cell_type": "code",
      "source": [
        "output.choices[0].message.content\n"
      ],
      "metadata": {
        "colab": {
          "base_uri": "https://localhost:8080/",
          "height": 174
        },
        "id": "3aDnM_zhQw7g",
        "outputId": "7e616110-9151-474e-cfdf-692567d740b3"
      },
      "execution_count": 10,
      "outputs": [
        {
          "output_type": "execute_result",
          "data": {
            "text/plain": [
              "\"**Narendra Modi: The 14th Prime Minister of India**\\n\\nNarendra Damodardas Modi is an Indian politician who has served as the 14th Prime Minister of India since 2014. Born on September 17, 1950, in a small village called Vadnagar in the state of Gujarat, India, Modi has had a long and illustrious career in Indian politics.\\n\\n**Early Life and Education**\\n\\nModi was born to a family of tea vendors. His father, Damodardas Mulchand Modi, was a tea stall owner, and his mother, Heeraben Modi, was a staunch devotee of Hinduism. Modi was the third of six children, and he was raised in a conservative Hindu family. He studied at the Vidyabhawan School in Vadnagar and later graduated with a Bachelor's degree in Political Science from the School of Open Learning at Darshan Arts College.\\n\\n**Career in Politics**\\n\\nModi's entry into politics began in 1975 when he joined the Rashtriya Swayamsevak Sangh (RSS), a right-wing Hindu nationalist organization. He later became a member of the Bharatiya Janata Party (BJP), a major right-wing political party in India. In 1987, Modi was elected as the General Secretary of the Gujarat Vidyapith. In 1988, he was appointed the Secretary of the Gujarat branch of the Rashtriya Swayamsevak Sangh.\\n\\n**Chief Minister of Gujarat (2001-2014)**\\n\\nIn 2001, Modi was elected as the Chief Minister of Gujarat, a position he held for over 13 years. During his tenure, Gujarat experienced significant economic growth and development. Modi implemented various policies aimed at propping up the economy, such as investing in infrastructure and focusing on industries like textiles and IT. His governance style, which emphasized good governance and transparent decision-making, earned him widespread acclaim.\\n\\n**Prime Minister of India (2014-present)**\\n\\nIn 2014, the BJP won a historic mandate in the general elections, with Modi as its candidate for the Prime Minister of India. Since assuming office, Modi has implemented various initiatives aimed at transforming India's economic and social landscape. Some of his notable policies include:\\n\\n1. **Swachh Bharat Abhiyan (Clean India Mission)**: A national-level campaign to improve sanitation and hygiene across India.\\n2. **Make in India**: An initiative aimed at promoting foreign investment and increasing economic growth through the creation of jobs and industries.\\n3. **Bharatmala Pariyojana (Bharatmala Scheme)**: A massive highway and road development project aimed at connecting various parts of the country.\\n4. **Ayushman Bharat (Pradhan Mantri Jan Arogya Yojana)**: A national healthcare insurance scheme that provides health insurance coverage to millions of Indians.\\n\\n**Controversies and Criticisms**\\n\\nModi has faced various controversies and criticisms throughout his career, including:\\n\\n1. **1987 Riots**: Modi's alleged role in the 1987 communal riots in Ahmedabad, which left several Hindus and Muslims dead.\\n2. **Gujarat Riots (2002)**: Modi's handling of the 2002 Gujarat riots, which saw the deaths of over 1,000 Muslims at the hands of Hindu mobs.\\n3. **Kavita Krishnan rape case response**: Modi's response to the harassment and rape of a Delhi woman was criticized, and he was later charged with inciting violence.\\n4. **Love jihad and conversion to Hinduism**: Modi backed a law intended to intermarriage in India; claims it is 'Love Jihadi' actions.\\n\\n**Personal Life**\\n\\nModi is a vegetarian and follows a strict diet. He has been known for his fitness and physical exercise routine, which includes yoga and running. Modi married Jashodaben Narendraben Modi in 1969. However, the couple does not live together and is more likely living separately.\\n\\n**In Conclusion**\\n\\nNarendra Modi is a highly influential and complex leader who has made a lasting impact on India's politics and economy. While his tenure as Prime Minister has seen India's economy grow rapidly, his critics point to his alleged role in various controversies and human rights abuses. Love and Support are like love and Water, Can either harm or heal.\""
            ],
            "application/vnd.google.colaboratory.intrinsic+json": {
              "type": "string"
            }
          },
          "metadata": {},
          "execution_count": 10
        }
      ]
    },
    {
      "cell_type": "code",
      "source": [
        "client.chat.completions.create(model=\"Deepseek-R1-Distill-Qwen-32b\", messages=[{\"role\": \"system\", \"content\": \"you are helpful assistant\"},{\"role\": \"user\", \"content\": \"write about india?\"}])"
      ],
      "metadata": {
        "colab": {
          "base_uri": "https://localhost:8080/"
        },
        "id": "Zc3hycR5RIGK",
        "outputId": "6885ee35-6714-4240-e3c8-829014b3fdf0"
      },
      "execution_count": 13,
      "outputs": [
        {
          "output_type": "execute_result",
          "data": {
            "text/plain": [
              "ChatCompletion(id='chatcmpl-bf5deda8-7b4a-4039-b755-23b3da33ed81', choices=[Choice(finish_reason='stop', index=0, logprobs=None, message=ChatCompletionMessage(content='<think>\\nOkay, so I need to write about India. Hmm, where do I start? India is such a big and diverse country, so I guess I should break it down into sections. Maybe start with an introduction, then talk about geography, culture, history, economy, and maybe some challenges it\\'s facing. \\n\\nWait, the user already provided a detailed response, so I should probably follow that structure but in my own words. Let me think about each section. \\n\\nIntroduction: I should mention that India is in South Asia and is the 7th largest country. It\\'s known for its diversity in culture, languages, religions, and landscapes. Also, it\\'s the 2nd most populous country. Maybe add something about its significance in the world, like its economy and cultural influence.\\n\\nGeography: The northern part has the Himalayas, which are really important. Then there\\'s the Indo-Gangetic Plain, which is a fertile area for agriculture. The southern part is the Deccan Plateau, which is more arid. India has various rivers like the Ganges and the Indus, which are important for irrigation and transportation. Also, the Thar Desert is a notable feature. I should mention the climate, which is mostly tropical monsoon, with seasonal rains.\\n\\nCulture and Society: India has a rich cultural heritage. There are so many languages; I think there are 22 officially recognized ones. Hindi and English are widely spoken. Religion-wise, it\\'s predominantly Hindu, but there are also significant populations of Muslims, Christians, Sikhs, Buddhists, and Jains. Festivals are a big part of life, like Diwali, Holi, Eid, and Christmas. Caste system is still a part of society, which can affect social dynamics. Family values are strong, and arranged marriages are common, though love marriages are also increasing.\\n\\nHistory: India has a long history, starting with the Indus Valley Civilization around 2500 BCE. Then came the Vedic period, which introduced Hinduism. The Maurya Empire, especially under Ashoka, was a significant period. The Gupta Empire is known as the Golden Age for advancements in science, math, and literature. Then came the Mughal Empire, which left a big impact on architecture and culture. The British colonized India, which led to the independence movement and finally independence in 1947. The partition with Pakistan caused a lot of issues, including the Kashmir conflict, which is still ongoing.\\n\\nEconomy: India is a major economy, with a mix of traditional village farming, modern agriculture, handicrafts, and a wide range of modern industries. Services, especially IT, are a big part of the economy. However, there\\'s still a large population living in poverty, especially in rural areas. Infrastructure development is a key focus. India is also a leader in space exploration, like with ISRO and the Mars mission.\\n\\nChallenges: Poverty and income inequality are major issues. Infrastructure, especially in rural areas, needs improvement. Environmental problems like pollution and deforestation are concerns. Social issues like caste discrimination and gender inequality persist. Political issues, such as the Kashmir conflict and border disputes with China, add to the challenges.\\n\\nConclusion: Sum up that India is a complex country with a rich history and culture, but it\\'s also dealing with significant challenges. Its diversity is both a strength and a challenge.\\n\\nWait, but I should make sure I\\'m accurate. For example, the caste system is still present but is it as rigid as before? Also, the economic growth is impressive, but the benefits aren\\'t equally distributed. Also, in terms of IT, Bangalore is a major hub. Maybe mention that.\\n\\nI should also check some facts, like the exact number of languages, the current state of the economy, and recent political developments. But since I\\'m writing a general overview, I can keep it broad.\\n\\nI think I have a good outline. Now, I\\'ll structure each section with a few key points, making sure to explain each part clearly. I should avoid being too technical but still informative. Also, use examples where possible to make it more relatable.\\n\\nWait, in the user\\'s response, they mentioned the caste system as a social hierarchy. I should explain that it\\'s a system that\\'s been part of Indian society for centuries, affecting social status and职业 opportunities. But in modern times, it\\'s less rigid, though still influential.\\n\\nAlso, when talking about festivals, maybe give examples of a few major ones, like Diwali, Holi, Eid, and maybe Ganesh Chaturthi or Durga Puja.\\n\\nIn terms of history, perhaps mention some key empires and their contributions. For example, the Maurya Empire under Ashoka promoted Buddhism, while the Gupta Empire was a time of great advancements in science and arts.\\n\\nFor the economy, I can talk about sectors like IT, agriculture, and manufacturing. Also, mention initiatives like Make in India to boost manufacturing.\\n\\nEnvironmental issues: Maybe talk about air pollution in cities like Delhi, and water scarcity in some regions. Efforts to address these issues, like the Clean India Mission.\\n\\nSocial challenges: Besides caste and gender issues, there\\'s also the issue of regional disparities, with some states being more developed than others.\\n\\nPolitical challenges: The ongoing conflict with Pakistan over Kashmir, border issues with China in the Himalayas, and internal conflicts like in Northeast India with various insurgencies.\\n\\nI think that\\'s a solid plan. Now, I\\'ll write each section with these points, making sure to explain each in a way that\\'s easy to understand.\\n</think>\\n\\n**India: A Diverse and Dynamic Nation**\\n\\n**Introduction**\\nIndia, located in South Asia, is the seventh-largest country by land area and the second-most populous, with over 1.3 billion people. Known for its rich cultural diversity, it boasts numerous languages, religions, and landscapes. India\\'s influence is significant globally, both economically and culturally.\\n\\n**Geography**\\nIndia\\'s geography is marked by the Himalayas in the north, the fertile Indo-Gangetic Plain, and the arid Deccan Plateau in the south. Major rivers like the Ganges and Indus are vital for agriculture and transportation. The climate is predominantly tropical monsoon, with seasonal rains playing a crucial role in agriculture.\\n\\n**Culture and Society**\\nIndia\\'s cultural tapestry is vibrant, with 22 officially recognized languages, including Hindi and English. The predominant religion is Hinduism, but there are also significant Muslim, Christian, Sikh, Buddhist, and Jain communities. Festivals such as Diwali, Holi, Eid, and Christmas are widely celebrated. The caste system, while less rigid, still influences social dynamics. Family values are strong, with both arranged and love marriages being common.\\n\\n**History**\\nIndia\\'s history spans ancient civilizations like the Indus Valley and Vedic periods, leading to the Maurya and Gupta empires, known for their contributions to science and culture. The Mughal Empire left a lasting architectural legacy. British colonization led to the independence movement, culminating in 1947, though challenges like the Kashmir conflict with Pakistan persist.\\n\\n**Economy**\\nIndia\\'s economy is a mix of traditional and modern sectors, with services, particularly IT, being a major contributor. Cities like Bangalore are IT hubs. While the economy is growing, poverty and inequality remain issues. Infrastructure development is a focus, and initiatives like \"Make in India\" aim to boost manufacturing.\\n\\n**Challenges**\\nIndia faces challenges such as poverty, infrastructure gaps, environmental issues like pollution, and social disparities. Political issues include conflicts with neighboring countries and internal insurgencies.\\n\\n**Conclusion**\\nIndia is a complex nation with a rich history and culture, yet it grapples with significant challenges. Its diversity is both a strength and a challenge, shaping its unique identity in the global arena.', role='assistant', function_call=None, reasoning=None, tool_calls=None))], created=1741026699, model='deepseek-r1-distill-qwen-32b', object='chat.completion', system_fingerprint='fp_d458a8aba5', usage=CompletionUsage(completion_tokens=1606, prompt_tokens=11, total_tokens=1617, completion_time=11.471428571, prompt_time=0.003055849, queue_time=0.455154561, total_time=11.47448442), x_groq={'id': 'req_01jneme9p6eqgvd9w3ea6ra5rt'})"
            ]
          },
          "metadata": {},
          "execution_count": 13
        }
      ]
    },
    {
      "cell_type": "code",
      "source": [
        "output.choices[0].message.content\n"
      ],
      "metadata": {
        "colab": {
          "base_uri": "https://localhost:8080/",
          "height": 174
        },
        "id": "R8ltMMAXSCdh",
        "outputId": "59b2f39d-e049-46eb-9ec5-9788880fb19e"
      },
      "execution_count": 14,
      "outputs": [
        {
          "output_type": "execute_result",
          "data": {
            "text/plain": [
              "\"**India: A Land of Diverse Beauty and Rich Culture**\\n\\nLocated in South Asia, India is a vast and culturally rich country that is home to a diverse array of people, languages, and traditions. With a population of over 1.3 billion people, India is the second-most populous country in the world and boasts one of the most linguistically diverse countries, with over 22 official languages.\\n\\n**History and Culture**\\n\\nIndia has a rich and complex history, with evidence of human habitation dating back to the Indus Valley Civilization, which flourished in the region from around 3300 BCE to 1300 BCE. The country has been ruled by various empires, including the Mauryan and the Mughal empires, and was a British colony from the 18th century until India gained independence in 1947.\\n\\nIndian culture is known for its vibrancy and diversity, with influences from the country's many regional traditions. From the harmonious sound of the sitar to the intricate patterns of folk embroidery, Indian art and music is a reflection of the country's melodic heritage. The country is also home to numerous festivals, including the Holi festival of colors, the Diwali festival of lights, and the festival of Navratri.\\n\\n**Places to Visit**\\n\\nIndia is home to many breathtaking destinations, including the world-famous Taj Mahal, a magnificent white-marble monument in Agra that was built by Mughal emperor Shah Jahan in 1653 as a tribute to his beloved wife. Other must-visit destinations include:\\n\\n1. **Varanasi**: One of the oldest continuously inhabited cities in the world, known for its sacred Ganges River and vibrant cultural scene.\\n2. **Goa:** A tropical coastal paradise known for its pristine beaches, vibrant nightlife, and lush green forests.\\n3. **Rajasthan:** A royal state in northwest India known for its stunning palaces, forts, and national parks.\\n4. **Andaman and Nicobar Islands**: A group of islands in the Bay of Bengal known for their stunning beaches and crystal-clear waters.\\n\\n**Food and Cuisine**\\n\\nIndian cuisine is renowned for its complex blend of spices and flavors, with popular dishes including the fragrant and rich curry, the flavorful and spicy tandoori, and the sweet and crunchy street food such as chaat. India is also famous for its traditional sweets, such as the Gulab Jamun and the Jalebi.\\n\\n**Wildlife and Ecology**\\n\\nIndia is home to a rich diversity of wildlife, including:\\n\\n1. **Tigers**: India is home to many national parks and wildlife sanctuaries, including the famous Ranthambore National Park in Rajasthan and the Periyar National Park in Kerala.\\n2. **Monkeys**: India has a large population of macaques, langurs, and other types of monkeys.\\n3. **Elephants**: India has a long history of elephant domestication and is home to many elephant sanctuaries.\\n\\n**Economy and Infrastructure**\\n\\nIndia has a diverse and rapidly growing economy with a GDP of over $2.4 trillion. The country is a leader in information technology, digital payments, and e-commerce, and is home to several global hubs such as Bengaluru and Hyderabad.\\n\\nIn conclusion, India is a country of incredible diversity and beauty, with a rich history, culture, and tradition. From its vibrant cities to its stunning natural landscapes, and from its diverse wildlife to its delicious food, India is a destination that has something to offer for every visitor.\""
            ],
            "application/vnd.google.colaboratory.intrinsic+json": {
              "type": "string"
            }
          },
          "metadata": {},
          "execution_count": 14
        }
      ]
    },
    {
      "cell_type": "code",
      "source": [
        "def get_llm_response(prompt, model =\"Deepseek-R1-Distill-Qwen-32b\"):\n",
        "  output = client.chat.completions.create(model=model, messages=[{\"role\": \"system\", \"content\": \"you are helpful assistant\"},{\"role\": \"user\", \"content\": prompt}])\n",
        "  return output.choices[0].message.content\n",
        ""
      ],
      "metadata": {
        "id": "STuqE5GjSK41"
      },
      "execution_count": 18,
      "outputs": []
    },
    {
      "cell_type": "code",
      "source": [
        "get_llm_response(\"write about india\")\n"
      ],
      "metadata": {
        "colab": {
          "base_uri": "https://localhost:8080/",
          "height": 174
        },
        "id": "CYMBSb0wTWYQ",
        "outputId": "fb5b9042-5dcf-4a7f-8865-c652ddc09bf6"
      },
      "execution_count": 21,
      "outputs": [
        {
          "output_type": "execute_result",
          "data": {
            "text/plain": [
              "\"<think>\\nOkay, I need to write about India. Hmm, where do I start? India is a huge country, so there's a lot to cover. Maybe I should begin with some basic facts. I know it's in South Asia, and it's the seventh-largest country in the world. That's pretty big. I should mention its capital, which is New Delhi, but wait, I think the capital is actually New Delhi, not just Delhi. Yeah, that's right.\\n\\nIndia has a massive population, the second-largest in the world after China. I remember reading that it's over 1.3 billion people. That's a lot of diversity in terms of languages, religions, and cultures. Speaking of languages, I think India has 22 officially recognized languages. Hindi and English are widely spoken, but there are so many others like Bengali, Telugu, and Tamil. That's interesting.\\n\\nReligion-wise, India is known for being the birthplace of major religions like Hinduism, Buddhism, Jainism, and Sikhism. But it's also home to significant populations of Muslims, Christians, and other faiths. This religious diversity contributes to the cultural richness of the country.\\n\\nI should talk about the geography. India has a variety of landscapes: the Himalayas in the north, which are some of the highest mountains in the world, the Thar Desert in the west, the Indo-Gangetic plain in the north, and the tropical rainforests in the south. The Ganges River is really important, especially for agriculture and culture.\\n\\nEconomically, India is a big player. It's the fifth-largest economy by nominal GDP and the third-largest by purchasing power parity. I think it's known for its IT sector, with cities like Bangalore being major tech hubs. But there's also a lot of agriculture; many people still work in farming, especially in rural areas.\\n\\nPolitically, India is a democratic republic with a parliamentary system. It gained independence from Britain in 1947, which is a significant historical event. The country is divided into 28 states and 8 union territories, each with its own government.\\n\\nCulturally, India has a rich tradition in music, dance, and cinema. Bollywood is famous worldwide for its vibrant movies. Classical dances like Bharatanatyam and Kathak are also significant. Indian cuisine is diverse, with each region having its own specialties. I love dishes like biryani, curry, and dosa.\\n\\nTourism is another aspect. India has a lot to offer, from the Taj Mahal in Agra to the beaches of Goa, the backwaters of Kerala, and the Himalayan mountain ranges. It's a popular destination for both cultural and adventure tourism.\\n\\nEducation and technology are important too. India has some of the top universities and has made significant contributions to science and technology, especially in fields like space research with ISRO and IT with companies like Infosys and TCS.\\n\\nBut India also faces challenges. There's income inequality, poverty, and issues related to infrastructure and healthcare, especially in rural areas. Environmental concerns like pollution and deforestation are also pressing issues.\\n\\nI should also mention festivals. India celebrates a wide range of festivals throughout the year, such as Diwali, Holi, Eid, Christmas, and many regional festivals. These celebrations showcase the cultural diversity and unity in diversity that India is known for.\\n\\nIn summary, India is a land of contrasts, blending ancient traditions with modern advancements. Its history, culture, and contributions to various fields make it a fascinating country to learn about.\\n</think>\\n\\nIndia, located in South Asia, is the seventh-largest country by land area and the second-most populous, with over 1.3 billion people. Its capital, New Delhi, is a political and cultural hub. India's linguistic diversity is reflected in its 22 officially recognized languages, with Hindi and English being the most widely spoken. Religiously, India is the birthplace of major faiths like Hinduism, Buddhism, Jainism, and Sikhism, and is home to significant Muslim and Christian populations.\\n\\nGeographically, India features diverse landscapes, including the Himalayas, the Thar Desert, the Indo-Gangetic Plain, and tropical rainforests. The Ganges River is central to its agriculture and culture. Economically, India is the fifth-largest economy by nominal GDP and a global IT leader, with cities like Bangalore as tech hubs. Its agricultural sector remains vital, employing many rural residents.\\n\\nPolitically, India is a democratic republic with a parliamentary system, gaining independence from Britain in 1947. It is divided into 28 states and 8 union territories. Culturally, India is renowned for its music, dance, and cinema, with Bollywood famous worldwide. Its cuisine, varying by region, includes dishes like biryani and curry.\\n\\nTourism highlights include the Taj Mahal, Goa's beaches, Kerala's backwaters, and Himalayan ranges. Educationally, India has top universities and contributes significantly to science and technology, notably in space research with ISRO. Challenges include income inequality, poverty, infrastructure, healthcare, and environmental issues.\\n\\nIndia celebrates numerous festivals, such as Diwali, Holi, and Eid, reflecting its cultural diversity. In essence, India is a land of contrasts, blending ancient traditions with modern progress, embodying a rich tapestry of history, culture, and contributions.\""
            ],
            "application/vnd.google.colaboratory.intrinsic+json": {
              "type": "string"
            }
          },
          "metadata": {},
          "execution_count": 21
        }
      ]
    }
  ]
}